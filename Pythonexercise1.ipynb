{
 "cells": [
  {
   "cell_type": "markdown",
   "id": "a01e2c30-aa1c-4534-ba08-d0ab0ef545ef",
   "metadata": {},
   "source": [
    "#### 1-What is 7 to the power of 4?"
   ]
  },
  {
   "cell_type": "code",
   "execution_count": 1,
   "id": "20ec3f68-58f6-4bfa-837a-487b7def7927",
   "metadata": {},
   "outputs": [
    {
     "name": "stdout",
     "output_type": "stream",
     "text": [
      "2401\n"
     ]
    }
   ],
   "source": [
    "x=7**4\n",
    "print(x)"
   ]
  },
  {
   "cell_type": "markdown",
   "id": "f36b8b7f-5410-41e0-bf73-471c840ad93d",
   "metadata": {},
   "source": [
    "#### 2-Split this string s = \"Hi there Yogesh!\" into a list."
   ]
  },
  {
   "cell_type": "code",
   "execution_count": 2,
   "id": "d7769dc3-f1a4-4f35-8d55-0b4308d911d9",
   "metadata": {},
   "outputs": [
    {
     "data": {
      "text/plain": [
       "['Hi', 'there', 'Yogesh!']"
      ]
     },
     "execution_count": 2,
     "metadata": {},
     "output_type": "execute_result"
    }
   ],
   "source": [
    "s = \"Hi there Yogesh!\"\n",
    "s.split()"
   ]
  },
  {
   "cell_type": "markdown",
   "id": "42a9ecb3-d364-48e9-85a1-3255733de6ab",
   "metadata": {},
   "source": [
    "#### 3-Given the variables:\n",
    "#### planet = \"Earth\"\n",
    "#### diameter = 12742\n",
    "#### Use .format() to print the following string:\n",
    "\n",
    "#### The diameter of Earth is 12742 kilometers."
   ]
  },
  {
   "cell_type": "code",
   "execution_count": 3,
   "id": "ca0bf1bc-4141-40c4-b709-ec91bc6b4b24",
   "metadata": {},
   "outputs": [
    {
     "name": "stdout",
     "output_type": "stream",
     "text": [
      "The diameter of Earth is 12742 kilometers.\n"
     ]
    }
   ],
   "source": [
    "planet = \"Earth\"\n",
    "diameter = 12742\n",
    "\n",
    "print(\"The diameter of {} is {} kilometers.\".format(planet, diameter))\n"
   ]
  },
  {
   "cell_type": "markdown",
   "id": "59e65eb1-37f5-4cee-a013-0b434de1f500",
   "metadata": {},
   "source": [
    "#### 4-Given this nested list, use indexing to grab the word \"hello\"\n",
    "#### lst = [1,2,[3,4],[5,[100,200,['hello']],23,11],1,7]"
   ]
  },
  {
   "cell_type": "code",
   "execution_count": 4,
   "id": "fa45d439-b440-467b-a2d5-01ef76057e4e",
   "metadata": {},
   "outputs": [
    {
     "data": {
      "text/plain": [
       "'hello'"
      ]
     },
     "execution_count": 4,
     "metadata": {},
     "output_type": "execute_result"
    }
   ],
   "source": [
    "lst = [1,2,[3,4],[5,[100,200,['hello']],23,11],1,7]\n",
    "lst[3][1][2][0]"
   ]
  },
  {
   "cell_type": "markdown",
   "id": "e0bb237f-293e-45d8-a94c-021ff03af792",
   "metadata": {},
   "source": [
    "#### 5-Given this nested dictionary grab the word \"hello\". Be prepared, this will be annoying/tricky "
   ]
  },
  {
   "cell_type": "code",
   "execution_count": 5,
   "id": "6c34a5b4-dc34-4143-9bac-98d9e8722377",
   "metadata": {},
   "outputs": [
    {
     "data": {
      "text/plain": [
       "'hello'"
      ]
     },
     "execution_count": 5,
     "metadata": {},
     "output_type": "execute_result"
    }
   ],
   "source": [
    "d = {'k1':[1,2,3,{'tricky':['oh','man','inception',\n",
    "                            {'target':[1,2,3,'hello']}]}]}\n",
    "d['k1'][3]['tricky'][3]['target'][3]"
   ]
  },
  {
   "cell_type": "markdown",
   "id": "804487fa-95eb-466c-9d9d-e4ac891f5976",
   "metadata": {},
   "source": [
    "#### 6-What is the main difference between a tuple and a list?"
   ]
  },
  {
   "cell_type": "code",
   "execution_count": null,
   "id": "2d9d1940-53fc-4b5f-8a95-77acccc677f7",
   "metadata": {},
   "outputs": [],
   "source": [
    "-Tuple is immutable             -list is mutable\n",
    "-Uses parenthesis ()            -Uses [] brackets"
   ]
  },
  {
   "cell_type": "markdown",
   "id": "35afb5e2-9d1a-494d-b6fc-6241194ec582",
   "metadata": {},
   "source": [
    "#### 7-Create a function that grabs the email website domain from a string in the form:\n",
    "####     user@domain.com\n",
    "#### So for example, passing \"user@domain.com\" would return: domain.com"
   ]
  },
  {
   "cell_type": "code",
   "execution_count": 6,
   "id": "536e75c2-a085-420d-9926-786f7fee4f57",
   "metadata": {},
   "outputs": [
    {
     "data": {
      "text/plain": [
       "'domain.com'"
      ]
     },
     "execution_count": 6,
     "metadata": {},
     "output_type": "execute_result"
    }
   ],
   "source": [
    "def get_domain(email):\n",
    "    return email.split('@')[1]\n",
    "get_domain('user@domain.com')"
   ]
  },
  {
   "cell_type": "markdown",
   "id": "de930204-306e-4e94-9012-36d11cbe2a3a",
   "metadata": {},
   "source": [
    "#### 8-Create a basic function that returns True if the word 'dog' is contained in the input string. Don't worry about edge cases like a punctuation being attached to the word dog, but do account for capitalization."
   ]
  },
  {
   "cell_type": "code",
   "execution_count": 7,
   "id": "97c50d76-fbe6-477e-a960-be8002459229",
   "metadata": {},
   "outputs": [
    {
     "data": {
      "text/plain": [
       "True"
      ]
     },
     "execution_count": 7,
     "metadata": {},
     "output_type": "execute_result"
    }
   ],
   "source": [
    "def findDog(text):\n",
    "    return 'dog' in text.lower().split()\n",
    "findDog(\"Dog\") "
   ]
  },
  {
   "cell_type": "markdown",
   "id": "56c97bd4-51bf-4606-b680-89a4dcdaf7e6",
   "metadata": {},
   "source": [
    "#### 9-Create a function that counts the number of times the word \"dog\" occurs in a string. Again ignore edge cases."
   ]
  },
  {
   "cell_type": "code",
   "execution_count": 8,
   "id": "5f4073b8-5c52-4db2-8961-8605ef8d1a4f",
   "metadata": {},
   "outputs": [
    {
     "data": {
      "text/plain": [
       "1"
      ]
     },
     "execution_count": 8,
     "metadata": {},
     "output_type": "execute_result"
    }
   ],
   "source": [
    "def countDog(text):\n",
    "    return text.lower().split().count('dog')\n",
    "countDog(\"The dog is here\")"
   ]
  },
  {
   "cell_type": "markdown",
   "id": "41d38e85-9841-4ae9-b08a-a7f25c7b1706",
   "metadata": {},
   "source": [
    "#### 10-Use lambda expressions and the filter() function to filter out words from a list that don't start with the letter 's'. For example:\n",
    "\n",
    "#### seq = ['soup','dog','salad','cat','great']\n",
    "#### should be filtered down to:\n",
    "\n",
    "#### ['soup','salad']"
   ]
  },
  {
   "cell_type": "code",
   "execution_count": 9,
   "id": "aa6b4591-49eb-4fb4-8fbd-fa8f9214d7a7",
   "metadata": {},
   "outputs": [
    {
     "data": {
      "text/plain": [
       "['soup', 'salad']"
      ]
     },
     "execution_count": 9,
     "metadata": {},
     "output_type": "execute_result"
    }
   ],
   "source": [
    "seq = ['soup', 'dog', 'salad', 'cat', 'great']\n",
    "filtered = filter(lambda word: word.startswith('s'), seq)\n",
    "list(filtered)"
   ]
  },
  {
   "cell_type": "code",
   "execution_count": null,
   "id": "194119cf-daea-4fd2-ab32-4cc103434ca1",
   "metadata": {},
   "outputs": [],
   "source": [
    "## OR"
   ]
  },
  {
   "cell_type": "code",
   "execution_count": 10,
   "id": "20c246e8-cb83-4121-a0e0-c51dc3a346f7",
   "metadata": {},
   "outputs": [
    {
     "data": {
      "text/plain": [
       "['dog', 'cat', 'great']"
      ]
     },
     "execution_count": 10,
     "metadata": {},
     "output_type": "execute_result"
    }
   ],
   "source": [
    "list(filter(lambda v:v[0]!='s',seq))"
   ]
  },
  {
   "cell_type": "markdown",
   "id": "9cba9f60-e6e4-4d7d-bb22-391cc4382b06",
   "metadata": {},
   "source": [
    "#### 11-You are driving a little too fast, and a police officer stops you. Write a function to return one of 3 possible results: \"No ticket\", \"Small ticket\", or \"Big Ticket\". If your speed is 60 or less, the result is \"No Ticket\". If speed is between 61 and 80 inclusive, the result is \"Small Ticket\". If speed is 81 or more, the result is \"Big Ticket\". Unless it is your birthday (encoded as a boolean value in the parameters of the function) -- on your birthday, your speed can be 5 higher in all cases."
   ]
  },
  {
   "cell_type": "code",
   "execution_count": 11,
   "id": "82ddde8f-805c-43c5-a0d2-54daf3057bb5",
   "metadata": {},
   "outputs": [],
   "source": [
    "def speed_fun(s,b):\n",
    "    if b==True:\n",
    "        s=s-5\n",
    "    else:\n",
    "        s=s\n",
    "    if s>80:\n",
    "        return \"BIG TICKET!!\"\n",
    "    elif s>60:\n",
    "        return \"Small Ticket!!\"\n",
    "    else:\n",
    "        return \"No Ticket!!!\""
   ]
  },
  {
   "cell_type": "code",
   "execution_count": 12,
   "id": "44ae97cb-e427-4665-88aa-b87ddef7a2e5",
   "metadata": {},
   "outputs": [
    {
     "data": {
      "text/plain": [
       "'No Ticket!!!'"
      ]
     },
     "execution_count": 12,
     "metadata": {},
     "output_type": "execute_result"
    }
   ],
   "source": [
    "speed_fun(60,False)"
   ]
  },
  {
   "cell_type": "code",
   "execution_count": 13,
   "id": "68761864-192a-4a63-bf97-fbb61fd5d5a4",
   "metadata": {},
   "outputs": [
    {
     "data": {
      "text/plain": [
       "'BIG TICKET!!'"
      ]
     },
     "execution_count": 13,
     "metadata": {},
     "output_type": "execute_result"
    }
   ],
   "source": [
    "speed_fun(84,False)"
   ]
  },
  {
   "cell_type": "code",
   "execution_count": 14,
   "id": "2a2079b4-248d-48f9-8519-c6132d6fad5c",
   "metadata": {},
   "outputs": [
    {
     "data": {
      "text/plain": [
       "'Small Ticket!!'"
      ]
     },
     "execution_count": 14,
     "metadata": {},
     "output_type": "execute_result"
    }
   ],
   "source": [
    "speed_fun(84,True)"
   ]
  },
  {
   "cell_type": "markdown",
   "id": "381fca49-90d4-4bea-9d32-1480acceb8f8",
   "metadata": {},
   "source": [
    "#### 12-Given a string print number num by extracting all the digits from the string as in string Print negative number if the first character in string is '-'\n",
    "## eg.\n",
    "#### -123abcd should return -123,abcd456-->456,fdhfh78dsd89--->7889,\n",
    "#### -56dssd78-->-5678"
   ]
  },
  {
   "cell_type": "code",
   "execution_count": null,
   "id": "3f816015-a45b-44e3-a023-935377764b6b",
   "metadata": {},
   "outputs": [],
   "source": [
    "s=input(\"Enter the Input:\")\n",
    "numbers=[0,1,2,3,4,5,6,7,8,9]\n",
    "num=\"\"\n",
    "if s[0]==\"-\":\n",
    "    num=num+s[0]\n",
    "for n in s:\n",
    "    if n in str(numbers):\n",
    "        num=num+n\n",
    "print(num)"
   ]
  },
  {
   "cell_type": "markdown",
   "id": "258aedc0-97e1-419c-b7f2-1fc190bb72a5",
   "metadata": {},
   "source": [
    "#### 13-WAP(Write A program) to check whether a number is palindrome or not on following \n",
    "#### conditions.\n",
    "#### 1. take input number\n",
    "#### 2. add number and its reverse\n",
    "#### 3. check that number is palindrome or not,if not then sum and its reverse"
   ]
  },
  {
   "cell_type": "code",
   "execution_count": null,
   "id": "d0ed150e-e0d2-4382-b4ca-753fe2a84caa",
   "metadata": {},
   "outputs": [],
   "source": [
    "n1=input(\"Enter the Number:\")\n",
    "n2=int(n1[::-1])\n",
    "n3=int(n1) + n2"
   ]
  },
  {
   "cell_type": "code",
   "execution_count": null,
   "id": "b6f32389-3752-47f8-a3f4-f835d84ed987",
   "metadata": {},
   "outputs": [],
   "source": [
    "n1=input(\"Enter the Number:\")\n",
    "n2=int(n1[::-1])\n",
    "n3=str(int(n1) + n2)\n",
    "while n3!=n3[::-1]:\n",
    "    n3=str(int(n3)+int(n3[::-1]))\n",
    "    print(\"Number is:\",n3)\n",
    "    print(\"Reverse is:\",n3[::-1])\n",
    "print(\"Palindrome is:\",n3)"
   ]
  },
  {
   "cell_type": "markdown",
   "id": "c3b00027-1804-4115-bad8-df83fd15ce51",
   "metadata": {},
   "source": [
    "#### 14-Write a python function to find and display the five \n",
    "#### digit number in which the first digit is two more than \n",
    "#### the second,the second digit is two more than the third,\n",
    "#### the fourth digit is two less than the third, and the \n",
    "#### last digit is two more than\n",
    "#### the fourth.The sum of the third,fourth and fifth digits\n",
    "#### equals the first.The sum of all the digits is 19"
   ]
  },
  {
   "cell_type": "code",
   "execution_count": 17,
   "id": "634666bb-033c-49c2-8a2f-bd54b2e56b7a",
   "metadata": {},
   "outputs": [
    {
     "name": "stdout",
     "output_type": "stream",
     "text": [
      "The number is: 75313\n"
     ]
    }
   ],
   "source": [
    "def find_number():\n",
    "    for d3 in range(0, 10):\n",
    "        d2 = d3 + 2\n",
    "        d1 = d2 + 2\n",
    "        d4 = d3 - 2\n",
    "        d5 = d4 + 2\n",
    "\n",
    "        if 0 <= d1 <= 9 and 0 <= d2 <= 9 and 0 <= d4 <= 9 and 0 <= d5 <= 9:\n",
    "            if d3 + d4 + d5 == d1 and d1 + d2 + d3 + d4 + d5 == 19:\n",
    "                number = d1*10000 + d2*1000 + d3*100 + d4*10 + d5\n",
    "                print(\"The number is:\", number)\n",
    "                return\n",
    "\n",
    "find_number()"
   ]
  }
 ],
 "metadata": {
  "kernelspec": {
   "display_name": "Python 3 (ipykernel)",
   "language": "python",
   "name": "python3"
  },
  "language_info": {
   "codemirror_mode": {
    "name": "ipython",
    "version": 3
   },
   "file_extension": ".py",
   "mimetype": "text/x-python",
   "name": "python",
   "nbconvert_exporter": "python",
   "pygments_lexer": "ipython3",
   "version": "3.13.5"
  }
 },
 "nbformat": 4,
 "nbformat_minor": 5
}
