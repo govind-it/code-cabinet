{
 "cells": [
  {
   "cell_type": "markdown",
   "id": "52df38c9-82ab-4243-9e40-1a4746d55298",
   "metadata": {},
   "source": [
    "#### MTA Document-1 "
   ]
  },
  {
   "cell_type": "markdown",
   "id": "86dd2003-6fdf-471e-b0f7-9732e91d2f99",
   "metadata": {},
   "source": [
    "#### 1-Ans"
   ]
  },
  {
   "cell_type": "code",
   "execution_count": 1,
   "id": "245f8630-ff29-42c0-96c4-d21ecc3508fd",
   "metadata": {},
   "outputs": [
    {
     "name": "stdout",
     "output_type": "stream",
     "text": [
      "5.0\n"
     ]
    }
   ],
   "source": [
    "#what is the result?\n",
    "x=8\n",
    "y=10\n",
    "result=x//3*3/2+y%2**2\n",
    "print(result)"
   ]
  },
  {
   "cell_type": "markdown",
   "id": "323e8503-a58c-4ea5-88ec-5b093a2fbc5b",
   "metadata": {},
   "source": [
    "#### 2-Ans"
   ]
  },
  {
   "cell_type": "code",
   "execution_count": 2,
   "id": "bba8dfdf-74fa-4a5b-9651-ab96e4fbf3d4",
   "metadata": {},
   "outputs": [
    {
     "name": "stdin",
     "output_type": "stream",
     "text": [
      "How old were you at the time of joining?  30\n",
      "How old are you today?  25\n"
     ]
    },
    {
     "name": "stdout",
     "output_type": "stream",
     "text": [
      "Congratulations on -5 Years of Service!\n"
     ]
    }
   ],
   "source": [
    "#valid code to print congratulations meassage?\n",
    "start = input('How old were you at the time of joining? ')\n",
    "end = input('How old are you today? ')\n",
    "\n",
    "print('Congratulations on ' + str(int(end) - int(start)) + ' Years of Service!')"
   ]
  },
  {
   "cell_type": "markdown",
   "id": "0585795a-59b2-40eb-bf4f-bfc236498c65",
   "metadata": {},
   "source": [
    "#### 3-Ans"
   ]
  },
  {
   "cell_type": "code",
   "execution_count": 3,
   "id": "2d7735d6-20e1-4baa-99c5-9a26760549e0",
   "metadata": {},
   "outputs": [
    {
     "name": "stdout",
     "output_type": "stream",
     "text": [
      "RPO\n"
     ]
    }
   ],
   "source": [
    "#won't print'CAT'to the console\n",
    "\n",
    "x='ACROTE'\n",
    "y='APPLE'\n",
    "z='TOMATO'\n",
    "\n",
    "print(x[2] + y[1] + z[1])  "
   ]
  },
  {
   "cell_type": "markdown",
   "id": "a2e1074b-cdb8-42ca-a0f3-c7202c41f73d",
   "metadata": {},
   "source": [
    "#### 4-Ans"
   ]
  },
  {
   "cell_type": "code",
   "execution_count": 4,
   "id": "da410209-0f25-4be8-a62d-1cbaf5a241e9",
   "metadata": {},
   "outputs": [],
   "source": [
    "#what is the condition to get result as TRUE?\n",
    "x='durga'\n",
    "y='durga'"
   ]
  },
  {
   "cell_type": "code",
   "execution_count": 5,
   "id": "9995af9b-cdc6-4822-9498-ca05edf1fd86",
   "metadata": {},
   "outputs": [
    {
     "name": "stdout",
     "output_type": "stream",
     "text": [
      "True\n",
      "None\n"
     ]
    }
   ],
   "source": [
    "z=print('True')\n",
    "result = x is y\n",
    "print(z)  "
   ]
  },
  {
   "cell_type": "markdown",
   "id": "90913ba1-b6bf-4e5b-b01f-186833906896",
   "metadata": {},
   "source": [
    "#### 5-Ans"
   ]
  },
  {
   "cell_type": "code",
   "execution_count": 6,
   "id": "272e6a02-b858-4523-b33f-863d5e955a06",
   "metadata": {},
   "outputs": [
    {
     "name": "stdout",
     "output_type": "stream",
     "text": [
      "101010\n"
     ]
    }
   ],
   "source": [
    "#data types of block 1,2,3?\n",
    "a1='10'\n",
    "b1=3\n",
    "c1=a1*b1\n",
    "print(c1)"
   ]
  },
  {
   "cell_type": "code",
   "execution_count": 7,
   "id": "41014d7d-8110-45d0-8865-f491ba4cf4be",
   "metadata": {},
   "outputs": [
    {
     "name": "stdout",
     "output_type": "stream",
     "text": [
      "3.3333333333333335\n"
     ]
    }
   ],
   "source": [
    "a2=10\n",
    "b2=3\n",
    "c2=a2/b2\n",
    "print(c2)"
   ]
  },
  {
   "cell_type": "code",
   "execution_count": 8,
   "id": "9fd8fb50-8060-4bc0-996f-32c0c12fa27a",
   "metadata": {},
   "outputs": [
    {
     "name": "stdout",
     "output_type": "stream",
     "text": [
      "2.6\n"
     ]
    }
   ],
   "source": [
    "a3=2.6\n",
    "b3=1\n",
    "c3=a3/b3\n",
    "print(c3)"
   ]
  },
  {
   "cell_type": "code",
   "execution_count": null,
   "id": "a9af4e99-5569-40ee-a68d-6dab2a82db89",
   "metadata": {},
   "outputs": [],
   "source": [
    "c1 ois of str,c2 is f float & c3is of float "
   ]
  },
  {
   "cell_type": "markdown",
   "id": "fdb35be0-e09f-4fb7-b3f5-e7e88e9779f3",
   "metadata": {},
   "source": [
    "#### 6-Ans"
   ]
  },
  {
   "cell_type": "code",
   "execution_count": 12,
   "id": "1eba079e-2319-4b5b-9b2f-8472aaa65e38",
   "metadata": {},
   "outputs": [
    {
     "data": {
      "text/plain": [
       "3"
      ]
     },
     "execution_count": 12,
     "metadata": {},
     "output_type": "execute_result"
    }
   ],
   "source": [
    "#which cases we will get the same result? \n",
    "13//4\n",
    "11//3\n",
    "3**1\n",
    "23%5"
   ]
  },
  {
   "cell_type": "code",
   "execution_count": 13,
   "id": "da864985-acb1-42d7-9dfe-9fdd0fffcc34",
   "metadata": {},
   "outputs": [
    {
     "data": {
      "text/plain": [
       "3"
      ]
     },
     "execution_count": 13,
     "metadata": {},
     "output_type": "execute_result"
    }
   ],
   "source": [
    "13//4"
   ]
  },
  {
   "cell_type": "code",
   "execution_count": 14,
   "id": "9c61dd9d-1726-486a-8c37-76bcc27287c8",
   "metadata": {},
   "outputs": [
    {
     "data": {
      "text/plain": [
       "3.6666666666666665"
      ]
     },
     "execution_count": 14,
     "metadata": {},
     "output_type": "execute_result"
    }
   ],
   "source": [
    "11/3"
   ]
  },
  {
   "cell_type": "code",
   "execution_count": 15,
   "id": "1d01ea75-3303-4bcb-971d-7947d8a5c427",
   "metadata": {},
   "outputs": [
    {
     "data": {
      "text/plain": [
       "3"
      ]
     },
     "execution_count": 15,
     "metadata": {},
     "output_type": "execute_result"
    }
   ],
   "source": [
    "3**1"
   ]
  },
  {
   "cell_type": "code",
   "execution_count": 16,
   "id": "2700e270-e276-4229-a971-ac6c60a3b632",
   "metadata": {},
   "outputs": [
    {
     "data": {
      "text/plain": [
       "3"
      ]
     },
     "execution_count": 16,
     "metadata": {},
     "output_type": "execute_result"
    }
   ],
   "source": [
    "23%5"
   ]
  },
  {
   "cell_type": "markdown",
   "id": "e825aaf9-4c87-4acd-bb6c-2b8e823dab5b",
   "metadata": {},
   "source": [
    "#### 7-Ans"
   ]
  },
  {
   "cell_type": "code",
   "execution_count": 17,
   "id": "9d7822ba-712d-4be6-81ee-798bebc5d72d",
   "metadata": {},
   "outputs": [
    {
     "name": "stdout",
     "output_type": "stream",
     "text": [
      "False\n",
      "True\n"
     ]
    }
   ],
   "source": [
    "#output?\n",
    "n1=[10,20,30,40,50]\n",
    "n2=[10,20,30,40,50]\n",
    "print(n1 is n2)\n",
    "print(n1==n2)"
   ]
  },
  {
   "cell_type": "markdown",
   "id": "4b6a289e-63a0-46b0-933f-01abfc6437ad",
   "metadata": {},
   "source": [
    "#### 8-Ans"
   ]
  },
  {
   "cell_type": "code",
   "execution_count": 18,
   "id": "0ac40439-0000-4d96-a53e-e1644e428bea",
   "metadata": {},
   "outputs": [
    {
     "data": {
      "text/plain": [
       "0"
      ]
     },
     "execution_count": 18,
     "metadata": {},
     "output_type": "execute_result"
    }
   ],
   "source": [
    "#result want zero?\n",
    "a=1\n",
    "b=3\n",
    "c=5\n",
    "d=7\n",
    "a-b//d\n",
    "a**d-1\n",
    "a+b*2\n",
    "a%b-1"
   ]
  },
  {
   "cell_type": "code",
   "execution_count": 19,
   "id": "6c88d06d-6bbf-4b32-9b4c-913f17f854c3",
   "metadata": {},
   "outputs": [
    {
     "data": {
      "text/plain": [
       "1"
      ]
     },
     "execution_count": 19,
     "metadata": {},
     "output_type": "execute_result"
    }
   ],
   "source": [
    "a-b//d"
   ]
  },
  {
   "cell_type": "code",
   "execution_count": 20,
   "id": "7453ec8a-c51f-4841-8ca1-618b918ad3e6",
   "metadata": {},
   "outputs": [
    {
     "data": {
      "text/plain": [
       "0"
      ]
     },
     "execution_count": 20,
     "metadata": {},
     "output_type": "execute_result"
    }
   ],
   "source": [
    "a**b//d"
   ]
  },
  {
   "cell_type": "code",
   "execution_count": 21,
   "id": "546f4632-5746-436e-933a-1ed22727c22b",
   "metadata": {},
   "outputs": [
    {
     "data": {
      "text/plain": [
       "7"
      ]
     },
     "execution_count": 21,
     "metadata": {},
     "output_type": "execute_result"
    }
   ],
   "source": [
    "a+b*2"
   ]
  },
  {
   "cell_type": "code",
   "execution_count": 22,
   "id": "f9d7f6d4-cefe-44ba-b34a-0a82c65d1f1d",
   "metadata": {},
   "outputs": [
    {
     "data": {
      "text/plain": [
       "0"
      ]
     },
     "execution_count": 22,
     "metadata": {},
     "output_type": "execute_result"
    }
   ],
   "source": [
    "a%b-1"
   ]
  },
  {
   "cell_type": "markdown",
   "id": "7aaa4bac-c231-42be-ac2f-76b611762a85",
   "metadata": {},
   "source": [
    "#### 9-Ans"
   ]
  },
  {
   "cell_type": "code",
   "execution_count": 23,
   "id": "bb5cf811-dffb-40cb-b05c-a7c29fbedeca",
   "metadata": {},
   "outputs": [
    {
     "name": "stdout",
     "output_type": "stream",
     "text": [
      "['A', 'B', ' ', 'C', 'D', 'EF']\n"
     ]
    }
   ],
   "source": [
    "#result?\n",
    "s='AB CD'\n",
    "list1=list(s)\n",
    "list1.append('EF')\n",
    "print(list1)"
   ]
  },
  {
   "cell_type": "markdown",
   "id": "dd3d1b8b-51b8-4a4f-9e33-d8ba11427220",
   "metadata": {},
   "source": [
    "#### 10-Ans"
   ]
  },
  {
   "cell_type": "code",
   "execution_count": 24,
   "id": "dd6f5298-1f0b-47a8-878d-55bc39959faa",
   "metadata": {},
   "outputs": [
    {
     "name": "stdout",
     "output_type": "stream",
     "text": [
      "valid\n"
     ]
    }
   ],
   "source": [
    "#condition to get result as valid?\n",
    "a=5\n",
    "b=10\n",
    "c=2\n",
    "d=True\n",
    "\n",
    "x=a+b*c\n",
    "y=a+b/d\n",
    "\n",
    "if x>y:\n",
    "    print('valid')\n",
    "else:\n",
    "    print('invalid')"
   ]
  },
  {
   "cell_type": "markdown",
   "id": "5be00694-d9c1-4f54-abf2-947163dfd6ba",
   "metadata": {},
   "source": [
    "#### 11-Ans"
   ]
  },
  {
   "cell_type": "code",
   "execution_count": 25,
   "id": "a83f8ae2-580c-4d41-8de9-278309e4109d",
   "metadata": {},
   "outputs": [
    {
     "name": "stdin",
     "output_type": "stream",
     "text": [
      "Enter First Number 11\n",
      "Enter Second Number 11\n"
     ]
    },
    {
     "name": "stdout",
     "output_type": "stream",
     "text": [
      "result:22\n"
     ]
    }
   ],
   "source": [
    "#sum of x and y?\n",
    "x=input(\"Enter First Number\")\n",
    "y=input(\"Enter Second Number\")\n",
    "print(\"result:\"+str(int(x)+int(y)))"
   ]
  },
  {
   "cell_type": "markdown",
   "id": "dc805cb5-97ba-4435-8d5e-dbee033b9547",
   "metadata": {},
   "source": [
    "#### 12-Ans"
   ]
  },
  {
   "cell_type": "code",
   "execution_count": null,
   "id": "2e75e284-abcf-435a-976e-f4872b94eb6c",
   "metadata": {},
   "outputs": [],
   "source": [
    "#valid statements?\n",
    "result=a-b*c+d\n",
    "The above expression is equivalent to a-(b*c)+d\n",
    "First b*c will be evaluated followed by substraction and addition"
   ]
  },
  {
   "cell_type": "markdown",
   "id": "4084e5bc-a413-4cce-8a79-c6098ec115e7",
   "metadata": {},
   "source": [
    "#### 13-Ans"
   ]
  },
  {
   "cell_type": "code",
   "execution_count": 26,
   "id": "7267e8c8-fff2-41d0-b948-c7afb9b8d173",
   "metadata": {},
   "outputs": [
    {
     "data": {
      "text/plain": [
       "(float, str, float)"
      ]
     },
     "execution_count": 26,
     "metadata": {},
     "output_type": "execute_result"
    }
   ],
   "source": [
    "#data types?\n",
    "weight=62.4\n",
    "zip='80098'\n",
    "value=+23E4"
   ]
  },
  {
   "cell_type": "markdown",
   "id": "0f9f21e1-79bf-4358-9734-23c2054fc9e6",
   "metadata": {},
   "source": [
    "#### 14-Ans"
   ]
  },
  {
   "cell_type": "code",
   "execution_count": 28,
   "id": "771a7611-baf5-48a4-bf36-223155226600",
   "metadata": {},
   "outputs": [],
   "source": [
    "#data types?\n",
    "a=10+20\n",
    "b='10'+'20'\n",
    "c='10'*3\n",
    "a is of int type,b is of str type and c is of str type"
   ]
  },
  {
   "cell_type": "markdown",
   "id": "413a7789-42ad-4367-8b85-ea1a337a3b69",
   "metadata": {},
   "source": [
    "#### 15-Ans"
   ]
  },
  {
   "cell_type": "code",
   "execution_count": 25,
   "id": "9adc6ee6-4696-46b1-a0bd-0c7d7ff2d06b",
   "metadata": {},
   "outputs": [],
   "source": [
    "#which of the following varibales represent false?\n",
    "a=bool([False])\n",
    "b=bool(3)\n",
    "c=(\"\")\n",
    "d=(' ')\n",
    "\n",
    "ans-c"
   ]
  },
  {
   "cell_type": "markdown",
   "id": "193cb4dd-7efe-4c5b-940a-af13359d8a59",
   "metadata": {},
   "source": [
    "#### 16-Ans"
   ]
  },
  {
   "cell_type": "code",
   "execution_count": 30,
   "id": "a9cdb6d0-717e-47e7-bbea-d75d4a1a1ade",
   "metadata": {},
   "outputs": [
    {
     "name": "stdout",
     "output_type": "stream",
     "text": [
      "17\n"
     ]
    }
   ],
   "source": [
    "#result?\n",
    "result=(2*(3+4)**2-(3**3)*3)\n",
    "print(result)"
   ]
  },
  {
   "cell_type": "markdown",
   "id": "1357cb48-f303-412b-a45c-0f7142839c67",
   "metadata": {},
   "source": [
    "#### 17-Ans"
   ]
  },
  {
   "cell_type": "code",
   "execution_count": null,
   "id": "a85015ac-63a4-4288-a16b-a340391c023f",
   "metadata": {},
   "outputs": [],
   "source": [
    "#to make a value as 9,which expression required to place at line 1\n",
    "a=2\n",
    "a+=1\n",
    "#line 1\n",
    "\n",
    "ans:a**=2"
   ]
  },
  {
   "cell_type": "markdown",
   "id": "d73c2072-e4c1-4e86-833d-46a3d169ade2",
   "metadata": {},
   "source": [
    "#### 18-Ans"
   ]
  },
  {
   "cell_type": "code",
   "execution_count": 33,
   "id": "48164bbf-56d9-48e4-8001-cda776cced16",
   "metadata": {},
   "outputs": [],
   "source": [
    "#represent True?\n",
    "a=bool(0)\n",
    "b=bool(3)\n",
    "c=bool(0.5)\n",
    "d=bool(0.0)\n",
    "\n",
    "ans-b & c"
   ]
  },
  {
   "cell_type": "markdown",
   "id": "71782395-d8f1-4051-9513-a27cfb0890f7",
   "metadata": {},
   "source": [
    "#### 19-Ans"
   ]
  },
  {
   "cell_type": "markdown",
   "id": "3762f9cb-26b2-4223-8336-1e67535d2dd4",
   "metadata": {},
   "source": [
    "#result?\n",
    "a=21\n",
    "b=6\n",
    "print(a/b)\n",
    "print(a//b)\n",
    "print(a%b)"
   ]
  },
  {
   "cell_type": "markdown",
   "id": "316e8ab4-d815-4c52-97a2-713371ff6efa",
   "metadata": {},
   "source": [
    "#### 20-Ans"
   ]
  },
  {
   "cell_type": "code",
   "execution_count": null,
   "id": "5d52299d-7860-4583-b099-4738a429b8b9",
   "metadata": {},
   "outputs": [],
   "source": [
    "#only show last 3 company management employees name?\n",
    "employees[-3:]\n",
    "employees[497:]\n",
    "All the above\n",
    "employees[497:500]"
   ]
  },
  {
   "cell_type": "markdown",
   "id": "843a1901-9f08-4f0f-b543-c480d6b7cb99",
   "metadata": {},
   "source": [
    "#### 21-Ans"
   ]
  },
  {
   "cell_type": "code",
   "execution_count": 38,
   "id": "37ffe80b-44a3-498e-97e3-31abe9ad944c",
   "metadata": {},
   "outputs": [],
   "source": [
    "#in which cases true will be printed to the console?\n",
    "subjects=['java','python','sap']\n",
    "more_subjects=['java','python','sap']\n",
    "extra_subjects=more_subjects"
   ]
  },
  {
   "cell_type": "code",
   "execution_count": 39,
   "id": "e61047d1-b973-4da1-aabd-c90d4b9c6c02",
   "metadata": {},
   "outputs": [
    {
     "name": "stdout",
     "output_type": "stream",
     "text": [
      "True\n"
     ]
    }
   ],
   "source": [
    "print(extra_subjects is more_subjects)"
   ]
  },
  {
   "cell_type": "code",
   "execution_count": 40,
   "id": "09c9360c-343a-478f-8ad1-de6a1526da60",
   "metadata": {},
   "outputs": [
    {
     "name": "stdout",
     "output_type": "stream",
     "text": [
      "True\n"
     ]
    }
   ],
   "source": [
    "print(subjects==extra_subjects)"
   ]
  },
  {
   "cell_type": "markdown",
   "id": "682de0a6-c7d4-4f53-a47b-1c6c3ed2f0eb",
   "metadata": {},
   "source": [
    "#### 22-Ans"
   ]
  },
  {
   "cell_type": "code",
   "execution_count": null,
   "id": "8373d95f-c864-4846-ab60-d84ff27930cb",
   "metadata": {},
   "outputs": [],
   "source": [
    "#when we get index error while accesing employee data?\n",
    "employees[0:501]\n",
    "employees[1:1000]\n",
    "employees[-10:10]\n",
    "\n",
    "ans-None of the above"
   ]
  },
  {
   "cell_type": "markdown",
   "id": "5a82ee99-898f-488a-87ca-039e3916743e",
   "metadata": {},
   "source": [
    "#### 23-Ans"
   ]
  },
  {
   "cell_type": "code",
   "execution_count": 44,
   "id": "7539d989-7bae-40e4-9dee-e23fe930eba4",
   "metadata": {},
   "outputs": [],
   "source": [
    "#result?\n",
    "Consider the lists:\n",
    "numbers=[10,20,30,40,50]\n",
    "alphabets=['a','b','c','d','e']\n",
    "print=(numbers is alphabets)\n",
    "print=(numbers==alphabets)\n",
    "numbers=alphabets\n",
    "print=(numbers is alphabets)\n",
    "print=(numbers==alphabets)\n",
    "\n",
    "ans-false\n",
    "    false \n",
    "    true\n",
    "    true"
   ]
  },
  {
   "cell_type": "markdown",
   "id": "b28b8a50-c287-4b23-8d08-053732e6eacf",
   "metadata": {},
   "source": [
    "#### 24-Ans"
   ]
  },
  {
   "cell_type": "code",
   "execution_count": 48,
   "id": "27d87400-374e-4d62-81a4-ea7144b3a91f",
   "metadata": {},
   "outputs": [],
   "source": [
    "#types?\n",
    "age=0\n",
    "minoe=False\n",
    "name='Durga'\n",
    "\n",
    "ans:int,bool,str"
   ]
  },
  {
   "cell_type": "markdown",
   "id": "79061773-dd61-485b-843b-cc5967cd953e",
   "metadata": {},
   "source": [
    "#### 25-Ans"
   ]
  },
  {
   "cell_type": "code",
   "execution_count": 49,
   "id": "d5906754-d9b7-4154-9cc0-1727aefbfc7b",
   "metadata": {},
   "outputs": [
    {
     "data": {
      "text/plain": [
       "8"
      ]
     },
     "execution_count": 49,
     "metadata": {},
     "output_type": "execute_result"
    }
   ],
   "source": [
    "#which one generate maximum value?\n",
    "8//3*4"
   ]
  },
  {
   "cell_type": "code",
   "execution_count": 50,
   "id": "c7427cd7-994f-4559-8991-4ec43aba3f7f",
   "metadata": {},
   "outputs": [
    {
     "data": {
      "text/plain": [
       "8"
      ]
     },
     "execution_count": 50,
     "metadata": {},
     "output_type": "execute_result"
    }
   ],
   "source": [
    "8%3*4"
   ]
  },
  {
   "cell_type": "code",
   "execution_count": 51,
   "id": "f9cb3ef6-0349-4910-8671-621783052795",
   "metadata": {},
   "outputs": [
    {
     "data": {
      "text/plain": [
       "10.666666666666666"
      ]
     },
     "execution_count": 51,
     "metadata": {},
     "output_type": "execute_result"
    }
   ],
   "source": [
    "8/3*4"
   ]
  },
  {
   "cell_type": "code",
   "execution_count": 52,
   "id": "b1abbc8d-388c-4240-9165-4489166d1534",
   "metadata": {},
   "outputs": [
    {
     "data": {
      "text/plain": [
       "-4"
      ]
     },
     "execution_count": 52,
     "metadata": {},
     "output_type": "execute_result"
    }
   ],
   "source": [
    "8-3*4"
   ]
  },
  {
   "cell_type": "markdown",
   "id": "a84df69b-9a00-495f-a0f2-7aa99093602b",
   "metadata": {},
   "source": [
    "#### 26-Ans"
   ]
  },
  {
   "cell_type": "code",
   "execution_count": 58,
   "id": "3594e130-b0da-4922-8793-d773efdbb5f6",
   "metadata": {},
   "outputs": [],
   "source": [
    "# Redefine the built-in print function\n",
    "import builtins\n",
    "print = builtins.print"
   ]
  },
  {
   "cell_type": "code",
   "execution_count": null,
   "id": "9641e11f-acd1-4b28-a061-e82d53e69d53",
   "metadata": {},
   "outputs": [],
   "source": [
    "s='python is easy'\n",
    "s1=s[6:-4]\n",
    "#line-1\n",
    "print(len(s2))\n",
    "To print 2 as output which code we have to insert at line 1"
   ]
  },
  {
   "cell_type": "code",
   "execution_count": 59,
   "id": "c5777e32-9a3e-441d-8809-01760454b466",
   "metadata": {},
   "outputs": [
    {
     "name": "stdout",
     "output_type": "stream",
     "text": [
      "2\n"
     ]
    }
   ],
   "source": [
    "s='python is easy'\n",
    "s1=s[6:-4]\n",
    "s2=s1.strip()\n",
    "print(len(s2))"
   ]
  },
  {
   "cell_type": "markdown",
   "id": "0641d38c-947d-4dd8-9c79-95e9b1ea1735",
   "metadata": {},
   "source": [
    "#### 27-Ans"
   ]
  },
  {
   "cell_type": "code",
   "execution_count": null,
   "id": "2c62933c-0f4f-4ac8-b061-9b2a23688527",
   "metadata": {},
   "outputs": [],
   "source": [
    "#display all employees name except last 3?\n",
    "emplyees[1:-3]\n",
    "emplyees[:-3]\n",
    "emplyees[1:-2]\n",
    "emplyees[0:-2]\n",
    "emplyees[0:-3]\n",
    "ans- b & e"
   ]
  },
  {
   "cell_type": "markdown",
   "id": "6946cc7f-f837-4da7-bb7e-837a938c38b1",
   "metadata": {},
   "source": [
    "#### 28-Ans"
   ]
  },
  {
   "cell_type": "code",
   "execution_count": 60,
   "id": "182f57ae-6697-483d-9cf7-ad8a77eccafd",
   "metadata": {},
   "outputs": [
    {
     "data": {
      "text/plain": [
       "'Mango'"
      ]
     },
     "execution_count": 60,
     "metadata": {},
     "output_type": "execute_result"
    }
   ],
   "source": [
    "#accessing mango?\n",
    "list=['Apple','Banana','Carrot','Mango']\n",
    "list.pop(3)\n",
    "#OR\n",
    "list=['Apple','Banana','Carrot','Mango']\n",
    "list[3]\n",
    "#OR\n",
    "list=['Apple','Banana','Carrot','Mango']\n",
    "list[-1]"
   ]
  },
  {
   "cell_type": "markdown",
   "id": "7b7b2c5b-566d-4db2-ba84-837bb5b441de",
   "metadata": {},
   "source": [
    "#### 29-Ans"
   ]
  },
  {
   "cell_type": "code",
   "execution_count": 64,
   "id": "5f15b564-b6a0-45e4-8e40-169516ba3145",
   "metadata": {},
   "outputs": [
    {
     "name": "stdout",
     "output_type": "stream",
     "text": [
      "Boy\n",
      "Cat\n",
      "Dog\n"
     ]
    }
   ],
   "source": [
    "#code snippet to produce the output?\n",
    "l=['Apple','Boy','Cat','Dog']\n",
    "l1=l[1:]\n",
    "for x in l1:\n",
    "    print(x)"
   ]
  },
  {
   "cell_type": "code",
   "execution_count": 66,
   "id": "9cdd12b1-066d-472e-bf2b-d7c699182931",
   "metadata": {},
   "outputs": [
    {
     "name": "stdout",
     "output_type": "stream",
     "text": [
      "Boy\n",
      "Cat\n",
      "Dog\n"
     ]
    }
   ],
   "source": [
    "#OR\n",
    "l=['Apple','Boy','Cat','Dog']\n",
    "for x in l: \n",
    "    if len(x)==3:\n",
    "        print(x)"
   ]
  },
  {
   "cell_type": "markdown",
   "id": "d3cff3fe-f348-4855-a5bd-31312330a4b6",
   "metadata": {},
   "source": [
    "#### 30-Ans"
   ]
  },
  {
   "cell_type": "code",
   "execution_count": 69,
   "id": "5c5f5966-941c-4aab-ba40-566665db3a97",
   "metadata": {},
   "outputs": [
    {
     "name": "stdout",
     "output_type": "stream",
     "text": [
      "3.0\n"
     ]
    }
   ],
   "source": [
    "a=15\n",
    "b=5\n",
    "x=a/b\n",
    "print(x)"
   ]
  },
  {
   "cell_type": "markdown",
   "id": "5d88b0db-c600-4090-9de5-7862a40f5d29",
   "metadata": {},
   "source": [
    "#### 31-Ans"
   ]
  },
  {
   "cell_type": "code",
   "execution_count": null,
   "id": "98e48d50-a423-4430-ba39-92e562ee6633",
   "metadata": {},
   "outputs": [],
   "source": [
    "#when we will get index error while accessing employee name? \n",
    "None of the abve\n",
    "employees[500]\n",
    "employees[0]\n",
    "employees[-1]\n",
    "\n",
    "ans-b"
   ]
  },
  {
   "cell_type": "markdown",
   "id": "bd1d4ad7-8337-444b-bd3e-2151279b6aea",
   "metadata": {},
   "source": [
    "#### 32-Ans"
   ]
  },
  {
   "cell_type": "code",
   "execution_count": 70,
   "id": "e26feed4-55e2-40fc-89ac-e061b0154fd3",
   "metadata": {},
   "outputs": [
    {
     "data": {
      "text/plain": [
       "-4"
      ]
     },
     "execution_count": 70,
     "metadata": {},
     "output_type": "execute_result"
    }
   ],
   "source": [
    "#result want -4?\n",
    "a=1\n",
    "b=2\n",
    "c=4\n",
    "d=6\n",
    "(a+b)//d-c"
   ]
  },
  {
   "cell_type": "markdown",
   "id": "befea375-4e70-4a4d-b35f-1f8285c41b9a",
   "metadata": {},
   "source": [
    "#### 33-Ans"
   ]
  },
  {
   "cell_type": "code",
   "execution_count": 71,
   "id": "28f0d87a-2cc1-49ab-b2b6-c51aa5fd06c1",
   "metadata": {},
   "outputs": [
    {
     "name": "stdout",
     "output_type": "stream",
     "text": [
      "is easyeasy\n"
     ]
    }
   ],
   "source": [
    "#result?\n",
    "s='Python is easy'\n",
    "s1=s[-7:]\n",
    "s2=s[-4:]\n",
    "print(s1+s2)"
   ]
  },
  {
   "cell_type": "markdown",
   "id": "2caeadc3-a984-451a-921b-cf0feeb0fc9b",
   "metadata": {},
   "source": [
    "#### 34-Ans"
   ]
  },
  {
   "cell_type": "code",
   "execution_count": null,
   "id": "a3944547-7c19-4a38-98d3-57018dfe47b7",
   "metadata": {},
   "outputs": [],
   "source": [
    "#valid python operator precedence order?\n",
    "Parenthesis\n",
    "Exponents\n",
    "Unary Positive,Negative and Not\n",
    "Multiplication And Division\n",
    "Addition And Subtraction\n",
    "And"
   ]
  },
  {
   "cell_type": "markdown",
   "id": "ddaff547-d1e7-449f-aefd-2b1eb158588f",
   "metadata": {},
   "source": [
    "#### 35-Ans"
   ]
  },
  {
   "cell_type": "code",
   "execution_count": null,
   "id": "50ec8ea1-3ca9-4b22-b43e-4b3a8993938b",
   "metadata": {},
   "outputs": [],
   "source": [
    "#valid expression?\n",
    "a=eval(input('Enter a number for the expression:'))\n",
    "\n",
    "ans:b=(-a)**2"
   ]
  },
  {
   "cell_type": "markdown",
   "id": "ed0b26b1-ba8a-4aca-be35-bbda0176686b",
   "metadata": {},
   "source": [
    "#### 36-Ans"
   ]
  },
  {
   "cell_type": "code",
   "execution_count": 74,
   "id": "99ca9f84-e452-4460-adf1-3c26d7691b35",
   "metadata": {},
   "outputs": [
    {
     "name": "stdout",
     "output_type": "stream",
     "text": [
      "7\n"
     ]
    }
   ],
   "source": [
    "#result?\n",
    "result=8//6%5+2**3-2\n",
    "print(result)"
   ]
  },
  {
   "cell_type": "markdown",
   "id": "3a49c6cd-af25-4147-9023-abf7255987d0",
   "metadata": {},
   "source": [
    "#### 37-Ans"
   ]
  },
  {
   "cell_type": "code",
   "execution_count": 77,
   "id": "3480a979-5738-4564-be9b-c2d78860cb38",
   "metadata": {},
   "outputs": [
    {
     "name": "stdout",
     "output_type": "stream",
     "text": [
      "11\n"
     ]
    }
   ],
   "source": [
    "#result?\n",
    "a=3\n",
    "b=5\n",
    "a+=2**3\n",
    "a-=b//2//3\n",
    "print(a)"
   ]
  },
  {
   "cell_type": "markdown",
   "id": "33b368f4-d191-4a94-87d9-7f7d68b652a4",
   "metadata": {},
   "source": [
    "#### 38-Ans"
   ]
  },
  {
   "cell_type": "code",
   "execution_count": null,
   "id": "f0518074-efb5-4a36-bf0c-c992625434fc",
   "metadata": {},
   "outputs": [],
   "source": [
    "#represent True?\n",
    "a=bool([])\n",
    "b=bool(())\n",
    "c=bool(range(0))\n",
    "d=bool({})\n",
    "e=bool(set())\n",
    "\n",
    "ans-None of the variables represents True"
   ]
  },
  {
   "cell_type": "markdown",
   "id": "38c28e6b-619a-4e2d-aa79-89a0be511afe",
   "metadata": {},
   "source": [
    "#### 39-Ans"
   ]
  },
  {
   "cell_type": "code",
   "execution_count": 80,
   "id": "b116cffa-5de6-4f07-b427-0ecc789e63ae",
   "metadata": {},
   "outputs": [
    {
     "name": "stdout",
     "output_type": "stream",
     "text": [
      "10\n"
     ]
    }
   ],
   "source": [
    "#result want 10?\n",
    "numbers=[10,20,30,40]\n",
    "x=0\n",
    "\n",
    "for i in (30,40,50):\n",
    "  if i in numbers:\n",
    "    x=x+5\n",
    "print(x)    "
   ]
  },
  {
   "cell_type": "code",
   "execution_count": 81,
   "id": "f02b19d5-6637-4f7e-bce0-d874b70809b2",
   "metadata": {},
   "outputs": [
    {
     "name": "stdout",
     "output_type": "stream",
     "text": [
      "10\n"
     ]
    }
   ],
   "source": [
    "#OR\n",
    "numbers=[10,20,30,40]\n",
    "x=0\n",
    "\n",
    "for i in (30,40,50):\n",
    "  if i not in numbers:\n",
    "    x=x+10\n",
    "print(x)    "
   ]
  },
  {
   "cell_type": "markdown",
   "id": "3141a530-ce47-4ef5-a88c-9f4764df1f6d",
   "metadata": {},
   "source": [
    "#### 40-Ans"
   ]
  },
  {
   "cell_type": "code",
   "execution_count": 84,
   "id": "deda4c49-386e-4dbd-975f-3cca51fd09cf",
   "metadata": {},
   "outputs": [
    {
     "name": "stdout",
     "output_type": "stream",
     "text": [
      "False\n",
      "True\n",
      "True\n",
      "True\n"
     ]
    }
   ],
   "source": [
    "#result?\n",
    "n1=[10,20,30,40,50]\n",
    "n2=[10,20,30,40,50]\n",
    "print(n1 is n2)\n",
    "print(n1==n2)\n",
    "n1=n2\n",
    "print(n1 is n2)\n",
    "print(n1==n2)"
   ]
  }
 ],
 "metadata": {
  "kernelspec": {
   "display_name": "Python 3 (ipykernel)",
   "language": "python",
   "name": "python3"
  },
  "language_info": {
   "codemirror_mode": {
    "name": "ipython",
    "version": 3
   },
   "file_extension": ".py",
   "mimetype": "text/x-python",
   "name": "python",
   "nbconvert_exporter": "python",
   "pygments_lexer": "ipython3",
   "version": "3.13.5"
  }
 },
 "nbformat": 4,
 "nbformat_minor": 5
}
