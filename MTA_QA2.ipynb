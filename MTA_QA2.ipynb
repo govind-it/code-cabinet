{
 "cells": [
  {
   "cell_type": "markdown",
   "id": "4d6098b6-e9e7-4a69-a091-afebc3c352a1",
   "metadata": {},
   "source": [
    "#### MTA Document-2"
   ]
  },
  {
   "cell_type": "markdown",
   "id": "fac55da5-02ca-4428-8936-8ade33ed8e1a",
   "metadata": {},
   "source": [
    "#### 1-Ans"
   ]
  },
  {
   "cell_type": "code",
   "execution_count": 1,
   "id": "82fd76ea-c7b9-47aa-b355-3320f93e90c9",
   "metadata": {},
   "outputs": [
    {
     "data": {
      "text/plain": [
       "4"
      ]
     },
     "execution_count": 1,
     "metadata": {},
     "output_type": "execute_result"
    }
   ],
   "source": [
    "7%2+3"
   ]
  },
  {
   "cell_type": "markdown",
   "id": "281837ca-b600-4567-84d5-dd02ce76def7",
   "metadata": {},
   "source": [
    "#### 2-Ans"
   ]
  },
  {
   "cell_type": "code",
   "execution_count": 4,
   "id": "72c060fa-c295-4caa-aa43-c61988903381",
   "metadata": {},
   "outputs": [
    {
     "name": "stdout",
     "output_type": "stream",
     "text": [
      "The Average for sachin is 20.00\n"
     ]
    }
   ],
   "source": [
    "from sys import argv\n",
    "args = ['test.py', 'sachin', '10', '20', '30']\n",
    "\n",
    "sum_val=0\n",
    "for i in range(2, len(args)):\n",
    "    sum_val += float(args[i])\n",
    "average = sum_val / (len(args) - 2)\n",
    "print('The Average for {0} is {1:.2f}'.format(args[1], average))"
   ]
  },
  {
   "cell_type": "markdown",
   "id": "1fb165d7-0ae9-43a7-8e38-d0540b6591be",
   "metadata": {},
   "source": [
    "#### 3-Ans"
   ]
  },
  {
   "cell_type": "code",
   "execution_count": 8,
   "id": "e29548fc-cd45-4b6a-a0bd-8c65733fb811",
   "metadata": {},
   "outputs": [
    {
     "name": "stdout",
     "output_type": "stream",
     "text": [
      "The Average for durga is 20.00\n"
     ]
    }
   ],
   "source": [
    "from sys import argv\n",
    "args = ['test.py', 'durga', '10', '20', '30']\n",
    "sum_val = 0\n",
    "for i in range(2, len(args)):\n",
    "    sum_val += float(args[i])\n",
    "average = sum_val / (len(args) - 2)\n",
    "print(\"The Average for {0} is {1:.2f}\".format(args[1], average))\n"
   ]
  },
  {
   "cell_type": "markdown",
   "id": "f8d1320f-7a76-4b2b-a104-d3e666969869",
   "metadata": {},
   "source": [
    "#### 4-Ans"
   ]
  },
  {
   "cell_type": "code",
   "execution_count": 10,
   "id": "79f6ff26-68a2-4a6e-965c-45caf2f267cc",
   "metadata": {},
   "outputs": [
    {
     "name": "stdout",
     "output_type": "stream",
     "text": [
      "16\n"
     ]
    }
   ],
   "source": [
    "x=3\n",
    "x+=1\n",
    "x**=2\n",
    "print(x)"
   ]
  },
  {
   "cell_type": "markdown",
   "id": "ef77dc3a-6e61-40f7-92a4-ab2d3d7c5e6d",
   "metadata": {},
   "source": [
    "#### 5-Ans"
   ]
  },
  {
   "cell_type": "code",
   "execution_count": 17,
   "id": "cae911af-88f3-4708-81cc-da52e6f1d7f1",
   "metadata": {},
   "outputs": [
    {
     "name": "stdin",
     "output_type": "stream",
     "text": [
      "10 10\n"
     ]
    },
    {
     "name": "stdout",
     "output_type": "stream",
     "text": [
      "<class 'str'>\n"
     ]
    },
    {
     "name": "stdin",
     "output_type": "stream",
     "text": [
      "10.5 10.5\n"
     ]
    },
    {
     "name": "stdout",
     "output_type": "stream",
     "text": [
      "<class 'str'>\n"
     ]
    }
   ],
   "source": [
    "#print(type(input('Enter some value:')))\n",
    "print(type(input('10')))\n",
    "print(type(input('10.5')))"
   ]
  },
  {
   "cell_type": "markdown",
   "id": "78475b61-bb8d-441a-b4e8-e427bca066be",
   "metadata": {},
   "source": [
    "#### 5-Ans"
   ]
  },
  {
   "cell_type": "code",
   "execution_count": null,
   "id": "0b96b3cc-1137-4a80-ae96-dcb134596785",
   "metadata": {},
   "outputs": [],
   "source": [
    "a=['a','b','c','d']\n",
    "for i in a:\n",
    "    a.append(i.upper())\n",
    "print(a)    \n",
    "ans-memory errror thrown at runtime"
   ]
  },
  {
   "cell_type": "markdown",
   "id": "6043eb11-8cb9-4a77-882a-05d19781903f",
   "metadata": {},
   "source": [
    "#### 6-Ans"
   ]
  },
  {
   "cell_type": "code",
   "execution_count": 28,
   "id": "152708c8-da9e-4b19-9468-8c20228b92dc",
   "metadata": {},
   "outputs": [
    {
     "data": {
      "text/plain": [
       "'ab'"
      ]
     },
     "execution_count": 28,
     "metadata": {},
     "output_type": "execute_result"
    }
   ],
   "source": [
    "a='5'\n",
    "b='2'\n",
    "'a'+'b'"
   ]
  },
  {
   "cell_type": "code",
   "execution_count": 32,
   "id": "1f0bb317-e3fc-488b-ac3e-9a506e6bffdd",
   "metadata": {},
   "outputs": [
    {
     "data": {
      "text/plain": [
       "'aa'"
      ]
     },
     "execution_count": 32,
     "metadata": {},
     "output_type": "execute_result"
    }
   ],
   "source": [
    "a='5'\n",
    "b='2'\n",
    "'a'*2"
   ]
  },
  {
   "cell_type": "markdown",
   "id": "b6726bfa-fb60-4fcc-9502-1cb9b4c4ecc7",
   "metadata": {},
   "source": [
    "#### 7-Ans"
   ]
  },
  {
   "cell_type": "code",
   "execution_count": 34,
   "id": "54a94b11-7657-4cc3-a512-5906485132ef",
   "metadata": {},
   "outputs": [
    {
     "name": "stdin",
     "output_type": "stream",
     "text": [
      "10 10\n"
     ]
    },
    {
     "name": "stdout",
     "output_type": "stream",
     "text": [
      "<class 'int'>\n"
     ]
    },
    {
     "name": "stdin",
     "output_type": "stream",
     "text": [
      "10.5 10.5\n"
     ]
    },
    {
     "name": "stdout",
     "output_type": "stream",
     "text": [
      "<class 'float'>\n"
     ]
    }
   ],
   "source": [
    "#print(type(eval(input('Enter some value:'))))\n",
    "print(type(eval(input('10'))))\n",
    "print(type(eval(input('10.5'))))"
   ]
  },
  {
   "cell_type": "markdown",
   "id": "955db72a-c3ce-48ae-bcad-0fc96a0c5a3b",
   "metadata": {},
   "source": [
    "#### 8-Ans"
   ]
  },
  {
   "cell_type": "code",
   "execution_count": 36,
   "id": "f86b0fa7-3bad-4409-90d9-27c0276d631f",
   "metadata": {},
   "outputs": [
    {
     "data": {
      "text/plain": [
       "9"
      ]
     },
     "execution_count": 36,
     "metadata": {},
     "output_type": "execute_result"
    }
   ],
   "source": [
    "a=7\n",
    "b=3\n",
    "c=5\n",
    "d=1\n",
    "a+d*2"
   ]
  },
  {
   "cell_type": "markdown",
   "id": "63742923-0778-4acc-8c06-617b657b9a39",
   "metadata": {},
   "source": [
    "#### 9-Ans"
   ]
  },
  {
   "cell_type": "code",
   "execution_count": 48,
   "id": "7cf46f37-8d56-4ca8-8e78-6204295d3c3f",
   "metadata": {},
   "outputs": [
    {
     "name": "stdout",
     "output_type": "stream",
     "text": [
      "test.py\n"
     ]
    }
   ],
   "source": [
    "from sys import argv\n",
    "argv = [\"test.py\", \"BHARATSOFT\"]  \n",
    "print(argv[0])\n"
   ]
  },
  {
   "cell_type": "markdown",
   "id": "ac8588f0-5f6f-43a5-9157-2c0145339fc9",
   "metadata": {},
   "source": [
    "#### 10-Ans"
   ]
  },
  {
   "cell_type": "code",
   "execution_count": 49,
   "id": "5d2d8220-d48a-4485-9940-55b267fc5535",
   "metadata": {},
   "outputs": [
    {
     "data": {
      "text/plain": [
       "9"
      ]
     },
     "execution_count": 49,
     "metadata": {},
     "output_type": "execute_result"
    }
   ],
   "source": [
    "6//4%5+2**3-2//3"
   ]
  },
  {
   "cell_type": "markdown",
   "id": "b63516b3-46a2-4dac-ac87-82cc022bee0f",
   "metadata": {},
   "source": [
    "#### 11-Ans"
   ]
  },
  {
   "cell_type": "code",
   "execution_count": 57,
   "id": "deea935b-6608-4510-a2e3-d351b744a9af",
   "metadata": {},
   "outputs": [
    {
     "name": "stdout",
     "output_type": "stream",
     "text": [
      "TT\n"
     ]
    }
   ],
   "source": [
    "x='TEXT'\n",
    "output=x[0]+x[-1]\n",
    "print(output)"
   ]
  },
  {
   "cell_type": "markdown",
   "id": "138a1f7b-b03f-4aa7-a284-81c4c460cadd",
   "metadata": {},
   "source": [
    "#### 12-Ans"
   ]
  },
  {
   "cell_type": "code",
   "execution_count": 59,
   "id": "54abe258-0eff-43bc-997c-f17590631afe",
   "metadata": {},
   "outputs": [
    {
     "name": "stdout",
     "output_type": "stream",
     "text": [
      "False\n",
      "True\n",
      "False\n"
     ]
    }
   ],
   "source": [
    "print(10==10 and 20!=20)\n",
    "print(10==10 or 20!=20)\n",
    "print(not 10==10)"
   ]
  },
  {
   "cell_type": "markdown",
   "id": "bf035169-f5c1-48dd-a744-60dec5b0e09e",
   "metadata": {},
   "source": [
    "#### 13-Ans"
   ]
  },
  {
   "cell_type": "code",
   "execution_count": 62,
   "id": "202795f5-ea89-439e-a66c-6231ed9ac111",
   "metadata": {},
   "outputs": [
    {
     "data": {
      "text/plain": [
       "2"
      ]
     },
     "execution_count": 62,
     "metadata": {},
     "output_type": "execute_result"
    }
   ],
   "source": [
    "a=float('123.456')\n",
    "bool(a)+True"
   ]
  },
  {
   "cell_type": "markdown",
   "id": "bfe11a4b-b40e-48ef-af08-8a4d07fe38aa",
   "metadata": {},
   "source": [
    "#### 14-Ans"
   ]
  },
  {
   "cell_type": "code",
   "execution_count": null,
   "id": "23ec12df-9aeb-468f-830a-9fffadb0a0ad",
   "metadata": {},
   "outputs": [],
   "source": [
    "distance=xxx(input('Enter the distance travelled in feet:'))\n",
    "distance_miles =distance/5280\n",
    "time=yyyy(input('Enter the time elapsed in seconds:'))\n",
    "time_hours= time/3600\n",
    "velocity=distance_miles/time_hours\n",
    "print('The average velocity:',velocity,'miles/hour')\n",
    "ans-xxx should be replaced with float and yyy should be replaced with float "
   ]
  },
  {
   "cell_type": "markdown",
   "id": "6722b77a-0060-45c7-844c-b46720ab18f0",
   "metadata": {},
   "source": [
    "#### 15-Ans"
   ]
  },
  {
   "cell_type": "code",
   "execution_count": null,
   "id": "a3966d9e-e4bb-4364-8e37-8fd565c31bd6",
   "metadata": {},
   "outputs": [],
   "source": [
    "total_items=int(float(input('How many items you required?')))"
   ]
  },
  {
   "cell_type": "markdown",
   "id": "4d9b4252-ef49-43d0-8c95-a35144fa1739",
   "metadata": {},
   "source": [
    "#### 16-Ans"
   ]
  },
  {
   "cell_type": "code",
   "execution_count": null,
   "id": "1cf01501-9e69-469e-aad2-aa3cf3e1df00",
   "metadata": {},
   "outputs": [],
   "source": [
    "print('r' in 'durga')\n",
    "print('is' in 'This Is a Fake News')"
   ]
  },
  {
   "cell_type": "markdown",
   "id": "3b12df1a-5710-4d4d-ab15-a5ce290141de",
   "metadata": {},
   "source": [
    "#### 17-Ans"
   ]
  },
  {
   "cell_type": "code",
   "execution_count": 69,
   "id": "0061192c-f0b3-4be9-9d6b-2908a00fc7a8",
   "metadata": {},
   "outputs": [
    {
     "name": "stdout",
     "output_type": "stream",
     "text": [
      "10\n"
     ]
    }
   ],
   "source": [
    "x=2\n",
    "y=6\n",
    "x+=2**3\n",
    "x//=y//2//3\n",
    "x=(x)//(y//2//3)\n",
    "print(x)"
   ]
  },
  {
   "cell_type": "markdown",
   "id": "d0d72d32-6efa-4c91-aa52-3149a413a2ca",
   "metadata": {},
   "source": [
    "#### 18-Ans"
   ]
  },
  {
   "cell_type": "code",
   "execution_count": 87,
   "id": "44de5926-2f18-43cb-922c-97fb731d6fb0",
   "metadata": {},
   "outputs": [
    {
     "name": "stdout",
     "output_type": "stream",
     "text": [
      "Durga\n"
     ]
    }
   ],
   "source": [
    "from sys import argv\n",
    "argv=['test.py','Durga']\n",
    "print(argv[1])"
   ]
  },
  {
   "cell_type": "markdown",
   "id": "1a4f1d30-ff45-42fb-9a09-f165d9d22bb3",
   "metadata": {},
   "source": [
    "#### 19-Ans"
   ]
  },
  {
   "cell_type": "code",
   "execution_count": 89,
   "id": "2b39d71a-5025-4705-b79a-d70feef3f18a",
   "metadata": {},
   "outputs": [
    {
     "name": "stdin",
     "output_type": "stream",
     "text": [
      "Enter the value: 12345\n"
     ]
    },
    {
     "name": "stdout",
     "output_type": "stream",
     "text": [
      "12346\n"
     ]
    },
    {
     "name": "stdin",
     "output_type": "stream",
     "text": [
      "Enter the value: 12345\n"
     ]
    },
    {
     "name": "stdout",
     "output_type": "stream",
     "text": [
      "12346\n"
     ]
    },
    {
     "name": "stdin",
     "output_type": "stream",
     "text": [
      "Enter count value: 12345\n"
     ]
    },
    {
     "name": "stdout",
     "output_type": "stream",
     "text": [
      "12346\n"
     ]
    }
   ],
   "source": [
    "count=int(input('Enter the value:'))\n",
    "print(count+1)\n",
    "\n",
    "#OR\n",
    "\n",
    "count=eval(input('Enter the value:'))\n",
    "print(count+1)\n",
    "\n",
    "#OR\n",
    "\n",
    "count=input('Enter count value:')\n",
    "print(int(count)+1)"
   ]
  },
  {
   "cell_type": "markdown",
   "id": "335b519e-00e8-42c2-b9a3-80993d8027bf",
   "metadata": {},
   "source": [
    "#### 20-Ans"
   ]
  },
  {
   "cell_type": "code",
   "execution_count": 99,
   "id": "b6adff25-88a9-4228-aa0b-d6dbbe694bfe",
   "metadata": {},
   "outputs": [
    {
     "name": "stdout",
     "output_type": "stream",
     "text": [
      "<class 'list'>\n"
     ]
    }
   ],
   "source": [
    "t=([10,20],10,False)\n",
    "x=type([0])\n",
    "print(x)"
   ]
  },
  {
   "cell_type": "markdown",
   "id": "437a0d7c-48da-463a-b65b-27a88941a9f5",
   "metadata": {},
   "source": [
    "#### 21-Ans"
   ]
  },
  {
   "cell_type": "code",
   "execution_count": 101,
   "id": "c1a1c23c-a239-4753-b831-1ddec5450e1b",
   "metadata": {},
   "outputs": [
    {
     "data": {
      "text/plain": [
       "2"
      ]
     },
     "execution_count": 101,
     "metadata": {},
     "output_type": "execute_result"
    }
   ],
   "source": [
    "22%5"
   ]
  },
  {
   "cell_type": "markdown",
   "id": "4022ba28-2751-441e-9f43-88a9d03571bd",
   "metadata": {},
   "source": [
    "#### 22-Ans"
   ]
  },
  {
   "cell_type": "code",
   "execution_count": 103,
   "id": "beeef4f8-4b37-47cd-aaab-19facb3a749b",
   "metadata": {},
   "outputs": [
    {
     "name": "stdout",
     "output_type": "stream",
     "text": [
      "25.0\n"
     ]
    }
   ],
   "source": [
    "x=3/3+3**3-3\n",
    "print(x)"
   ]
  },
  {
   "cell_type": "markdown",
   "id": "f48d788f-840e-44bc-be5e-2634927c9766",
   "metadata": {},
   "source": [
    "#### 23-Ans"
   ]
  },
  {
   "cell_type": "code",
   "execution_count": 104,
   "id": "61de6bf4-0f07-4c99-830f-437c7847724c",
   "metadata": {},
   "outputs": [
    {
     "name": "stdout",
     "output_type": "stream",
     "text": [
      "6.0\n"
     ]
    }
   ],
   "source": [
    "result=str(bool(1)+float(10)/float(2))\n",
    "print(result)"
   ]
  },
  {
   "cell_type": "markdown",
   "id": "7026ba98-b2ba-4689-a753-171509f318ac",
   "metadata": {},
   "source": [
    "#### 24-Ans"
   ]
  },
  {
   "cell_type": "code",
   "execution_count": 105,
   "id": "abfe1649-06d6-4f34-980a-27c2a1a46cde",
   "metadata": {},
   "outputs": [
    {
     "name": "stdout",
     "output_type": "stream",
     "text": [
      "1020\n"
     ]
    }
   ],
   "source": [
    "from sys import argv\n",
    "argv=['test.py','10','20']\n",
    "print(argv[1]+argv[2])"
   ]
  },
  {
   "cell_type": "markdown",
   "id": "64d1d214-bb38-4663-9697-decfc3fbe045",
   "metadata": {},
   "source": [
    "#### 25-Ans"
   ]
  },
  {
   "cell_type": "code",
   "execution_count": 108,
   "id": "bb962b37-0eb2-4c19-9420-a0bb8c78e39f",
   "metadata": {},
   "outputs": [
    {
     "name": "stdout",
     "output_type": "stream",
     "text": [
      "Enter your name:\n"
     ]
    },
    {
     "name": "stdin",
     "output_type": "stream",
     "text": [
      " GOVIND\n"
     ]
    },
    {
     "name": "stdout",
     "output_type": "stream",
     "text": [
      "GOVIND\n"
     ]
    }
   ],
   "source": [
    "print('Enter your name:')\n",
    "name=input()\n",
    "print(name)"
   ]
  },
  {
   "cell_type": "markdown",
   "id": "fb26fa58-2d96-43cc-8030-72a64873d7bd",
   "metadata": {},
   "source": [
    "#### 26-Ans"
   ]
  },
  {
   "cell_type": "code",
   "execution_count": null,
   "id": "0c69db00-6563-4db8-b2d9-d006be086000",
   "metadata": {},
   "outputs": [],
   "source": [
    "type('True and False') is <class 'bool'>\n",
    "ans-\n",
    "True and False evaluates to False\n",
    "True+1 evaluates to 2"
   ]
  },
  {
   "cell_type": "markdown",
   "id": "99acb5e2-3511-409e-b5ea-139508a72915",
   "metadata": {},
   "source": [
    "#### 27-Ans"
   ]
  },
  {
   "cell_type": "code",
   "execution_count": 111,
   "id": "2a050ab2-26b7-4018-8579-7fe460b117a0",
   "metadata": {},
   "outputs": [
    {
     "name": "stdout",
     "output_type": "stream",
     "text": [
      "True\n",
      "False\n",
      "True\n",
      "False\n",
      "True\n"
     ]
    }
   ],
   "source": [
    "print(not 0)\n",
    "print(not 10)\n",
    "print(not '')\n",
    "print(not 'Durga')\n",
    "print(not None)"
   ]
  },
  {
   "cell_type": "markdown",
   "id": "da323d08-0683-4ade-b30a-230e2ef22924",
   "metadata": {},
   "source": [
    "#### 28-Ans"
   ]
  },
  {
   "cell_type": "code",
   "execution_count": 112,
   "id": "8be257e8-b15a-4b7e-9fe0-87fedad74f68",
   "metadata": {},
   "outputs": [
    {
     "name": "stdout",
     "output_type": "stream",
     "text": [
      "True\n",
      "False\n",
      "False\n",
      "False\n"
     ]
    }
   ],
   "source": [
    "l1=['sunny','bunny','chinny','vinny']\n",
    "l2=['sunny','bunny','chinny','vinny']\n",
    "print(l1 is not l2)\n",
    "print(l1!=l2)\n",
    "l1=l2\n",
    "print(l1 is not l2)\n",
    "print(l1!=l2)"
   ]
  },
  {
   "cell_type": "markdown",
   "id": "90b9cb34-2133-42e6-a71d-4e270fd4623e",
   "metadata": {},
   "source": [
    "#### 29-Ans"
   ]
  },
  {
   "cell_type": "code",
   "execution_count": 113,
   "id": "7f84a8fe-b0f7-4480-8b62-5d7e33a3264b",
   "metadata": {},
   "outputs": [
    {
     "name": "stdout",
     "output_type": "stream",
     "text": [
      "<class 'int'>\n"
     ]
    }
   ],
   "source": [
    "x=2**2**2\n",
    "print(type(x))"
   ]
  },
  {
   "cell_type": "markdown",
   "id": "86823238-60d4-49a3-89c2-16692f18fe56",
   "metadata": {},
   "source": [
    "#### 30-Ans"
   ]
  },
  {
   "cell_type": "code",
   "execution_count": 124,
   "id": "73b4ae5f-ca6b-47f5-9778-3580de97e043",
   "metadata": {},
   "outputs": [
    {
     "name": "stdout",
     "output_type": "stream",
     "text": [
      "9\n"
     ]
    }
   ],
   "source": [
    "s='DURGA SOFT'\n",
    "result=len(s.replace(' ',''))\n",
    "print(result)"
   ]
  },
  {
   "cell_type": "markdown",
   "id": "70473c8f-452a-4ccf-b863-3bc6108d5851",
   "metadata": {},
   "source": [
    "#### 31-Ans"
   ]
  },
  {
   "cell_type": "code",
   "execution_count": null,
   "id": "d1f76969-25fa-4c91-9bca-e550b16be623",
   "metadata": {},
   "outputs": [],
   "source": [
    "By using argv variable present in sys module,we can access command line arguments."
   ]
  },
  {
   "cell_type": "markdown",
   "id": "e4f0f80e-1ed8-4e21-9b28-d635e24c0f21",
   "metadata": {},
   "source": [
    "#### 32-Ans"
   ]
  },
  {
   "cell_type": "code",
   "execution_count": 130,
   "id": "0ff88cf0-aa3e-40b4-82c1-b782e20aa010",
   "metadata": {},
   "outputs": [
    {
     "name": "stdout",
     "output_type": "stream",
     "text": [
      "AA\n",
      "AA\n",
      "AA\n"
     ]
    }
   ],
   "source": [
    "b='BANANA'\n",
    "print(b[3]+b[5])\n",
    "print(b[1]+b[5])\n",
    "print(b[1]+b[3])"
   ]
  },
  {
   "cell_type": "markdown",
   "id": "b4410013-5cc4-4744-bfe7-65d264ff44bc",
   "metadata": {},
   "source": [
    "#### 33-Ans"
   ]
  },
  {
   "cell_type": "code",
   "execution_count": 132,
   "id": "3dd65fa4-82af-4eea-b018-4b63763a59c6",
   "metadata": {},
   "outputs": [
    {
     "name": "stdout",
     "output_type": "stream",
     "text": [
      "False\n",
      "True\n",
      "True\n",
      "True\n"
     ]
    }
   ],
   "source": [
    "l1=['sunny','bunny','chinny','vinny']\n",
    "l2=['sunny','bunny','chinny','vinny']\n",
    "print(l1 is l2)\n",
    "print(l1==l2)\n",
    "l1=l2\n",
    "print(l1 is l2)\n",
    "print(l1==l2)"
   ]
  },
  {
   "cell_type": "markdown",
   "id": "e00eaee4-9d9a-4fae-8d47-8b0dbd19f7c2",
   "metadata": {},
   "source": [
    "#### 34-Ans"
   ]
  },
  {
   "cell_type": "code",
   "execution_count": 1,
   "id": "52a4002e-bb74-4c39-a655-0139b174b005",
   "metadata": {},
   "outputs": [
    {
     "name": "stdout",
     "output_type": "stream",
     "text": [
      "0\n"
     ]
    }
   ],
   "source": [
    "v1=1\n",
    "v2=0\n",
    "v1=v1^v2\n",
    "v2=v1^v2\n",
    "v1=v1^v2\n",
    "print(v1)"
   ]
  },
  {
   "cell_type": "markdown",
   "id": "d8b2e1f6-b563-484b-89b9-cd17a1e007de",
   "metadata": {},
   "source": [
    "#### 35-Ans"
   ]
  },
  {
   "cell_type": "code",
   "execution_count": 2,
   "id": "9ecc2102-0949-4e37-8374-2289b6b49b09",
   "metadata": {},
   "outputs": [
    {
     "name": "stdin",
     "output_type": "stream",
     "text": [
      "Enter the number of customers of the bank: 15\n"
     ]
    },
    {
     "name": "stdout",
     "output_type": "stream",
     "text": [
      "20\n"
     ]
    }
   ],
   "source": [
    "count=input('Enter the number of customers of the bank:')\n",
    "output=int(count)+5\n",
    "print(output)"
   ]
  },
  {
   "cell_type": "markdown",
   "id": "0a8e9a34-fde0-4759-8e94-0042668abb60",
   "metadata": {},
   "source": [
    "#### 36-Ans"
   ]
  },
  {
   "cell_type": "code",
   "execution_count": 3,
   "id": "74ae2435-a7e0-464e-8032-367d9bb14cc3",
   "metadata": {},
   "outputs": [
    {
     "name": "stdout",
     "output_type": "stream",
     "text": [
      "<class 'str'>\n"
     ]
    }
   ],
   "source": [
    "x='10'\n",
    "y='20'\n",
    "print(type(x+y))"
   ]
  },
  {
   "cell_type": "markdown",
   "id": "08de7e8b-2428-4595-9013-770b975dc909",
   "metadata": {},
   "source": [
    "#### 37-Ans"
   ]
  },
  {
   "cell_type": "code",
   "execution_count": 12,
   "id": "e93a949c-87b5-4de6-a3bf-35d70665476f",
   "metadata": {},
   "outputs": [
    {
     "data": {
      "text/plain": [
       "'Bharat\\nsoftware\\nsolutions'"
      ]
     },
     "execution_count": 12,
     "metadata": {},
     "output_type": "execute_result"
    }
   ],
   "source": [
    "'''Bharat\n",
    "software\n",
    "solutions'''"
   ]
  },
  {
   "cell_type": "markdown",
   "id": "9dab157f-2111-49b0-b7cd-2dfa6a6b5f1e",
   "metadata": {},
   "source": [
    "#### 38-Ans"
   ]
  },
  {
   "cell_type": "code",
   "execution_count": 16,
   "id": "c6044585-d81e-4cf8-a0aa-75f3b68448b9",
   "metadata": {},
   "outputs": [
    {
     "name": "stdout",
     "output_type": "stream",
     "text": [
      "False\n",
      "True\n"
     ]
    }
   ],
   "source": [
    "first = [7, 8, 9]\n",
    "b = first[:]          \n",
    "print(b is first)     \n",
    "print(b == first)     "
   ]
  },
  {
   "cell_type": "markdown",
   "id": "c0bab20d-8b51-4fc7-a954-63eba9d916e2",
   "metadata": {},
   "source": [
    "#### 39-Ans"
   ]
  },
  {
   "cell_type": "code",
   "execution_count": 19,
   "id": "3b4b7cf6-7e35-4cff-9923-ef41bc489eec",
   "metadata": {},
   "outputs": [
    {
     "name": "stdout",
     "output_type": "stream",
     "text": [
      "12\n",
      "result: 4.5\n"
     ]
    }
   ],
   "source": [
    "#valid statements?\n",
    "\n",
    "#The following expression evaluates to 12\n",
    "b=False+5-True+35//4\n",
    "print(b)\n",
    "\n",
    "#The following line will print result:4.5\n",
    "print('result:',(7/2)+(False or True)+(9%3))"
   ]
  },
  {
   "cell_type": "markdown",
   "id": "a169b566-347a-4372-b21b-1069ccca04f6",
   "metadata": {},
   "source": [
    "#### 40-Ans"
   ]
  },
  {
   "cell_type": "code",
   "execution_count": 22,
   "id": "74efbc14-8baa-4588-bbdd-b87d3a38174f",
   "metadata": {},
   "outputs": [
    {
     "name": "stdin",
     "output_type": "stream",
     "text": [
      "Enter Your College Name: BHARATSOFT\n",
      "Enter Your City: Pune\n"
     ]
    },
    {
     "name": "stdout",
     "output_type": "stream",
     "text": [
      "Welcome to BHARATSOFT in Pune\n"
     ]
    }
   ],
   "source": [
    "college_name=input('Enter Your College Name:')\n",
    "city=input('Enter Your City:')\n",
    "print('Welcome to {} in {}'.format(college_name,city))"
   ]
  }
 ],
 "metadata": {
  "kernelspec": {
   "display_name": "Python 3 (ipykernel)",
   "language": "python",
   "name": "python3"
  },
  "language_info": {
   "codemirror_mode": {
    "name": "ipython",
    "version": 3
   },
   "file_extension": ".py",
   "mimetype": "text/x-python",
   "name": "python",
   "nbconvert_exporter": "python",
   "pygments_lexer": "ipython3",
   "version": "3.13.5"
  }
 },
 "nbformat": 4,
 "nbformat_minor": 5
}
